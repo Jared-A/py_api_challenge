{
 "cells": [
  {
   "cell_type": "markdown",
   "metadata": {},
   "source": [
    "# WeatherPy\n",
    "----\n",
    "\n",
    "#### Note\n",
    "* Instructions have been included for each segment. You do not have to follow them exactly, but they are included to help you think through the steps."
   ]
  },
  {
   "cell_type": "code",
   "execution_count": 1,
   "metadata": {
    "scrolled": true
   },
   "outputs": [
    {
     "name": "stdout",
     "output_type": "stream",
     "text": [
      "Requirement already satisfied: citipy in c:\\users\\adler\\appdata\\local\\continuum\\anaconda3\\lib\\site-packages (0.0.5)\n",
      "Requirement already satisfied: kdtree>=0.12 in c:\\users\\adler\\appdata\\local\\continuum\\anaconda3\\lib\\site-packages (from citipy) (0.16)\n",
      "Note: you may need to restart the kernel to use updated packages.\n"
     ]
    }
   ],
   "source": [
    "pip install citipy"
   ]
  },
  {
   "cell_type": "code",
   "execution_count": 2,
   "metadata": {},
   "outputs": [
    {
     "name": "stdout",
     "output_type": "stream",
     "text": [
      "Requirement already satisfied: geopy in c:\\users\\adler\\appdata\\local\\continuum\\anaconda3\\lib\\site-packages (1.21.0)\n",
      "Requirement already satisfied: geographiclib<2,>=1.49 in c:\\users\\adler\\appdata\\local\\continuum\\anaconda3\\lib\\site-packages (from geopy) (1.50)\n",
      "Note: you may need to restart the kernel to use updated packages.\n"
     ]
    }
   ],
   "source": [
    "pip install geopy"
   ]
  },
  {
   "cell_type": "code",
   "execution_count": 19,
   "metadata": {},
   "outputs": [
    {
     "name": "stdout",
     "output_type": "stream",
     "text": [
      "Collecting openweathermapy\n",
      "  Downloading https://files.pythonhosted.org/packages/41/ea/eda328e60ffc8ee201c6743ecb463ef122f10f9d13ec9fcaa0028736ce4e/openweathermapy-0.6.6.tar.gz\n",
      "Building wheels for collected packages: openweathermapy\n",
      "  Building wheel for openweathermapy (setup.py): started\n",
      "  Building wheel for openweathermapy (setup.py): finished with status 'done'\n",
      "  Created wheel for openweathermapy: filename=openweathermapy-0.6.6-cp37-none-any.whl size=6352 sha256=cd57b29dc95ea61ee4beb55eb39b5b55d22008f342b857507f15a351505bce49\n",
      "  Stored in directory: C:\\Users\\adler\\AppData\\Local\\pip\\Cache\\wheels\\c4\\1d\\0d\\1a3bfa432ec120fcc8d8dcf316bc17b1e779fcbfb17e78a2ec\n",
      "Successfully built openweathermapy\n",
      "Installing collected packages: openweathermapy\n",
      "Successfully installed openweathermapy-0.6.6\n",
      "Note: you may need to restart the kernel to use updated packages.\n"
     ]
    }
   ],
   "source": [
    "pip install openweathermapy"
   ]
  },
  {
   "cell_type": "code",
   "execution_count": 3,
   "metadata": {},
   "outputs": [],
   "source": [
    "from geopy.geocoders import Nominatim"
   ]
  },
  {
   "cell_type": "code",
   "execution_count": 8,
   "metadata": {},
   "outputs": [
    {
     "data": {
      "text/plain": [
       "'wilmette'"
      ]
     },
     "execution_count": 8,
     "metadata": {},
     "output_type": "execute_result"
    }
   ],
   "source": [
    "from citipy import citipy\n",
    "city = citipy.nearest_city(42.0730 , -87.7509)\n",
    "city\n",
    "\n",
    "city.city_name     # Wilmette, my home town\n",
    "\n",
    "\n",
    "#city.country_code\n",
    "                  # And the country is surely US"
   ]
  },
  {
   "cell_type": "code",
   "execution_count": 20,
   "metadata": {
    "scrolled": true
   },
   "outputs": [],
   "source": [
    "# Dependencies and Setup\n",
    "import os\n",
    "import csv\n",
    "import matplotlib.pyplot as plt\n",
    "import pandas as pd\n",
    "import numpy as np\n",
    "import requests\n",
    "import time\n",
    "from scipy.stats import linregress\n",
    "import openweathermapy as ow\n",
    "from pprint import pprint\n",
    "import datetime\n",
    "\n",
    "# Import API key\n",
    "from api_keys import weather_api_key\n",
    "\n",
    "# Incorporated citipy to determine city based on latitude and longitude\n",
    "from citipy import citipy\n",
    "\n",
    "# Output File (CSV)\n",
    "output_data_file = \"output_data/cities.csv\"\n",
    "\n",
    "# Range of latitudes and longitudes\n",
    "lat_range = (-90 , 90 )\n",
    "lng_range = (-180 , 180)"
   ]
  },
  {
   "cell_type": "markdown",
   "metadata": {},
   "source": [
    "## Generate Cities List"
   ]
  },
  {
   "cell_type": "code",
   "execution_count": 10,
   "metadata": {},
   "outputs": [
    {
     "data": {
      "text/plain": [
       "['ornskoldsvik',\n",
       " 'mukhen',\n",
       " 'hithadhoo',\n",
       " 'kikwit',\n",
       " 'vao',\n",
       " 'georgetown',\n",
       " 'taolanaro',\n",
       " 'hobart',\n",
       " 'port elizabeth',\n",
       " 'tasiilaq',\n",
       " 'barentsburg',\n",
       " 'yellowknife',\n",
       " 'kavieng',\n",
       " 'hasaki',\n",
       " 'bredasdorp',\n",
       " 'bluff',\n",
       " 'may pen',\n",
       " 'gidam',\n",
       " 'canico',\n",
       " 'samusu',\n",
       " 'busselton',\n",
       " 'rikitea',\n",
       " 'vaini',\n",
       " 'ahipara',\n",
       " 'kodiak',\n",
       " 'sao filipe',\n",
       " 'barrow',\n",
       " 'attawapiskat',\n",
       " 'ushuaia',\n",
       " 'qaanaaq',\n",
       " 'mala vyska',\n",
       " 'guatire',\n",
       " 'belushya guba',\n",
       " 'avarua',\n",
       " 'guerrero negro',\n",
       " 'lavrentiya',\n",
       " 'kapaa',\n",
       " 'kaitangata',\n",
       " 'makakilo city',\n",
       " 'hay river',\n",
       " 'castro',\n",
       " 'comodoro rivadavia',\n",
       " 'nikolskoye',\n",
       " 'gizo',\n",
       " 'noyabrsk',\n",
       " 'pedro ii',\n",
       " 'langres',\n",
       " 'luderitz',\n",
       " 'bengkulu',\n",
       " 'tukrah',\n",
       " 'sorland',\n",
       " 'jamame',\n",
       " 'palauig',\n",
       " 'urengoy',\n",
       " 'cidreira',\n",
       " 'souillac',\n",
       " 'khatanga',\n",
       " 'namibe',\n",
       " 'mar del plata',\n",
       " 'penzance',\n",
       " 'arraial do cabo',\n",
       " 'khonuu',\n",
       " 'tucuman',\n",
       " 'muzhi',\n",
       " 'cape town',\n",
       " 'jakar',\n",
       " 'raudeberg',\n",
       " 'jieshi',\n",
       " 'mataura',\n",
       " 'campina verde',\n",
       " 'nanortalik',\n",
       " 'cherskiy',\n",
       " 'omutinskoye',\n",
       " 'punta arenas',\n",
       " 'illoqqortoormiut',\n",
       " 'atuona',\n",
       " 'saint george',\n",
       " 'trojanovice',\n",
       " 'jamestown',\n",
       " 'salalah',\n",
       " 'asau',\n",
       " 'ilulissat',\n",
       " 'umzimvubu',\n",
       " 'marcona',\n",
       " 'san patricio',\n",
       " 'sobolevo',\n",
       " 'yola',\n",
       " 'westport',\n",
       " 'margate',\n",
       " 'northam',\n",
       " 'poronaysk',\n",
       " 'laguna',\n",
       " 'chiredzi',\n",
       " 'galesong',\n",
       " 'fort saint john',\n",
       " 'lillooet',\n",
       " 'san agustin',\n",
       " 'rocha',\n",
       " 'karratha',\n",
       " 'balasheyka',\n",
       " 'saint-philippe',\n",
       " 'shieli',\n",
       " 'tuktoyaktuk',\n",
       " 'faanui',\n",
       " 'hermanus',\n",
       " 'nadvoitsy',\n",
       " 'albany',\n",
       " 'visnes',\n",
       " 'tsihombe',\n",
       " 'puerto rondon',\n",
       " 'bonavista',\n",
       " 'sept-iles',\n",
       " 'ahuimanu',\n",
       " 'bucuresci',\n",
       " 'menongue',\n",
       " 'lompoc',\n",
       " 'galich',\n",
       " 'tuatapere',\n",
       " 'isla mujeres',\n",
       " 'oranjemund',\n",
       " 'severo-kurilsk',\n",
       " 'salacgriva',\n",
       " 'lebu',\n",
       " 'mount gambier',\n",
       " 'dikson',\n",
       " 'novorzhev',\n",
       " 'butaritari',\n",
       " 'new norfolk',\n",
       " 'lata',\n",
       " 'amderma',\n",
       " 'lagoa',\n",
       " 'mandera',\n",
       " 'pisco',\n",
       " 'rabo de peixe',\n",
       " 'chokurdakh',\n",
       " 'walvis bay',\n",
       " 'gorom-gorom',\n",
       " 'bukachacha',\n",
       " 'minna',\n",
       " 'santa cruz del sur',\n",
       " 'russkaya polyana',\n",
       " 'dzhusaly',\n",
       " 'chamba',\n",
       " 'lyngseidet',\n",
       " 'vila velha',\n",
       " 'kaspiysk',\n",
       " 'carutapera',\n",
       " 'haines junction',\n",
       " 'urumqi',\n",
       " 'mys shmidta',\n",
       " 'sao jose da coroa grande',\n",
       " 'tidore',\n",
       " 'leningradskiy',\n",
       " 'cabra',\n",
       " 'fairbanks',\n",
       " 'muros',\n",
       " 'weyburn',\n",
       " 'swellendam',\n",
       " 'chaplygin',\n",
       " 'namatanai',\n",
       " 'ponta do sol',\n",
       " 'san andres',\n",
       " 'doha',\n",
       " 'inta',\n",
       " 'east london',\n",
       " 'eskasem',\n",
       " 'mossendjo',\n",
       " 'port hardy',\n",
       " 'san juan',\n",
       " 'selma',\n",
       " 'avera',\n",
       " 'manaure',\n",
       " 'ribeira grande',\n",
       " 'san cristobal',\n",
       " 'zhangjiakou',\n",
       " 'batavia',\n",
       " 'senno',\n",
       " 'maisyan',\n",
       " 'touros',\n",
       " 'pudozh',\n",
       " 'kaeo',\n",
       " 'kosonsoy',\n",
       " 'torbay',\n",
       " 'rungata',\n",
       " 'gamba',\n",
       " 'bathsheba',\n",
       " 'tomatlan',\n",
       " 'pacific grove',\n",
       " 'dubovskoye',\n",
       " 'ducheng',\n",
       " 'narsaq',\n",
       " 'hauterive',\n",
       " 'shu',\n",
       " 'saldanha',\n",
       " 'xuanzhou',\n",
       " 'wodonga',\n",
       " 'shelopugino',\n",
       " 'mata',\n",
       " 'praia da vitoria',\n",
       " 'batagay-alyta',\n",
       " 'tura',\n",
       " 'kovdor',\n",
       " 'binabalian',\n",
       " 'labuan',\n",
       " 'esperance',\n",
       " 'nivala',\n",
       " 'lorengau',\n",
       " 'road town',\n",
       " 'actopan',\n",
       " 'clyde river',\n",
       " 'kavaratti',\n",
       " 'saskylakh',\n",
       " 'katsuura',\n",
       " 'upernavik',\n",
       " 'harda',\n",
       " 'at-bashi',\n",
       " 'juneau',\n",
       " 'barbar',\n",
       " 'chifeng',\n",
       " 'chuy',\n",
       " 'puerto ayora',\n",
       " 'toungoo',\n",
       " 'coihaique',\n",
       " 'saint-francois',\n",
       " 'ankang',\n",
       " 'lincoln',\n",
       " 'basco',\n",
       " 'victoria',\n",
       " 'vestmannaeyjar',\n",
       " 'harper',\n",
       " 'bethel',\n",
       " 'ancud',\n",
       " 'bethanien',\n",
       " 'helong',\n",
       " 'hilo',\n",
       " 'sechura',\n",
       " 'cabo san lucas',\n",
       " 'porto velho',\n",
       " 'grand river south east',\n",
       " 'chernyshevskiy',\n",
       " 'vila franca do campo',\n",
       " 'vardo',\n",
       " 'codrington',\n",
       " 'ngukurr',\n",
       " 'crowley',\n",
       " 'vestmanna',\n",
       " 'klaksvik',\n",
       " 'pacifica',\n",
       " 'tiznit',\n",
       " 'port alfred',\n",
       " 'emerald',\n",
       " 'garissa',\n",
       " 'kostomuksha',\n",
       " 'palabuhanratu',\n",
       " 'olafsvik',\n",
       " 'caucaia',\n",
       " 'mahebourg',\n",
       " 'mehamn',\n",
       " 'xam nua',\n",
       " 'thunder bay',\n",
       " 'sitka',\n",
       " 'bairiki',\n",
       " 'karmala',\n",
       " 'general pico',\n",
       " 'guelengdeng',\n",
       " 'zhob',\n",
       " 'kalawit',\n",
       " 'churapcha',\n",
       " 'hohhot',\n",
       " 'harrisburg',\n",
       " 'sayville',\n",
       " 'wahran',\n",
       " 'umm lajj',\n",
       " 'mega',\n",
       " 'turan',\n",
       " 'hami',\n",
       " 'maine-soroa',\n",
       " 'bolobo',\n",
       " 'cockburn town']"
      ]
     },
     "execution_count": 10,
     "metadata": {},
     "output_type": "execute_result"
    }
   ],
   "source": [
    "# List for holding lat_lngs and cities\n",
    "lat_lngs = []\n",
    "cities = []\n",
    "\n",
    "# Create a set of random lat and lng combinations\n",
    "lats = np.random.uniform(low=-90, high=90, size=500)\n",
    "lngs = np.random.uniform(low=-180, high=180, size=500)\n",
    "lat_lngs = zip(lats, lngs)\n",
    "\n",
    "# Identify nearest city for each lat, lng combination\n",
    "for lat_lng in lat_lngs:\n",
    "    city = citipy.nearest_city(lat_lng[0], lat_lng[1]).city_name\n",
    "    \n",
    "    # If the city is unique, then add it to a our cities list\n",
    "    if city not in cities:\n",
    "        cities.append(city)\n",
    "\n",
    "# Print the city count to confirm sufficient count\n",
    "cities"
   ]
  },
  {
   "cell_type": "markdown",
   "metadata": {},
   "source": [
    "### Perform API Calls\n",
    "* Perform a weather check on each city using a series of successive API calls.\n",
    "* Include a print log of each city as it'sbeing processed (with the city number and city name).\n"
   ]
  },
  {
   "cell_type": "code",
   "execution_count": 11,
   "metadata": {},
   "outputs": [],
   "source": [
    "new_cities = []\n",
    "cloudiness = []\n",
    "country = []\n",
    "date = []\n",
    "humidity = []\n",
    "temp = []\n",
    "lat = []\n",
    "lng = []\n",
    "wind = []"
   ]
  },
  {
   "cell_type": "code",
   "execution_count": 12,
   "metadata": {},
   "outputs": [
    {
     "name": "stdout",
     "output_type": "stream",
     "text": [
      "------------------------\n",
      "Beginning Data Retrieval\n",
      "------------------------\n",
      "Processing record 2 of set 1 | ornskoldsvik\n",
      "Processing record 3 of set 1 | mukhen\n",
      "Processing record 4 of set 1 | hithadhoo\n",
      "Processing record 5 of set 1 | kikwit\n",
      "Processing record 6 of set 1 | vao\n",
      "Processing record 7 of set 1 | georgetown\n",
      "Processing record 8 of set 1 | taolanaro\n",
      "{'cod': '404', 'message': 'city not found'}\n",
      "Processing record 9 of set 1 | hobart\n",
      "Processing record 10 of set 1 | port elizabeth\n",
      "Processing record 11 of set 1 | tasiilaq\n",
      "Processing record 12 of set 1 | barentsburg\n",
      "{'cod': '404', 'message': 'city not found'}\n",
      "Processing record 13 of set 1 | yellowknife\n",
      "Processing record 14 of set 1 | kavieng\n",
      "Processing record 15 of set 1 | hasaki\n",
      "Processing record 16 of set 1 | bredasdorp\n",
      "Processing record 17 of set 1 | bluff\n",
      "Processing record 18 of set 1 | may pen\n",
      "Processing record 19 of set 1 | gidam\n",
      "Processing record 20 of set 1 | canico\n",
      "Processing record 21 of set 1 | samusu\n",
      "{'cod': '404', 'message': 'city not found'}\n",
      "Processing record 22 of set 1 | busselton\n",
      "Processing record 23 of set 1 | rikitea\n",
      "Processing record 24 of set 1 | vaini\n",
      "Processing record 25 of set 1 | ahipara\n",
      "Processing record 26 of set 1 | kodiak\n",
      "Processing record 27 of set 1 | sao filipe\n",
      "Processing record 28 of set 1 | barrow\n",
      "Processing record 29 of set 1 | attawapiskat\n",
      "{'cod': '404', 'message': 'city not found'}\n",
      "Processing record 30 of set 1 | ushuaia\n",
      "Processing record 31 of set 1 | qaanaaq\n",
      "Processing record 32 of set 1 | mala vyska\n",
      "Processing record 33 of set 1 | guatire\n",
      "Processing record 34 of set 1 | belushya guba\n",
      "{'cod': '404', 'message': 'city not found'}\n",
      "Processing record 35 of set 1 | avarua\n",
      "Processing record 36 of set 1 | guerrero negro\n",
      "Processing record 37 of set 1 | lavrentiya\n",
      "Processing record 38 of set 1 | kapaa\n",
      "Processing record 39 of set 1 | kaitangata\n",
      "Processing record 40 of set 1 | makakilo city\n",
      "Processing record 41 of set 1 | hay river\n",
      "Processing record 42 of set 1 | castro\n",
      "Processing record 43 of set 1 | comodoro rivadavia\n",
      "Processing record 44 of set 1 | nikolskoye\n",
      "Processing record 45 of set 1 | gizo\n",
      "Processing record 46 of set 1 | noyabrsk\n",
      "Processing record 47 of set 1 | pedro ii\n",
      "Processing record 48 of set 1 | langres\n",
      "Processing record 49 of set 1 | luderitz\n",
      "Processing record 50 of set 1 | bengkulu\n",
      "Processing record 0 of set 2 | tukrah\n",
      "Processing record 1 of set 2 | sorland\n",
      "Processing record 2 of set 2 | jamame\n",
      "Processing record 3 of set 2 | palauig\n",
      "Processing record 4 of set 2 | urengoy\n",
      "Processing record 5 of set 2 | cidreira\n",
      "Processing record 6 of set 2 | souillac\n",
      "Processing record 7 of set 2 | khatanga\n",
      "Processing record 8 of set 2 | namibe\n",
      "Processing record 9 of set 2 | mar del plata\n",
      "Processing record 10 of set 2 | penzance\n",
      "Processing record 11 of set 2 | arraial do cabo\n",
      "Processing record 12 of set 2 | khonuu\n",
      "{'cod': '404', 'message': 'city not found'}\n",
      "Processing record 13 of set 2 | tucuman\n",
      "Processing record 14 of set 2 | muzhi\n",
      "Processing record 15 of set 2 | cape town\n",
      "Processing record 16 of set 2 | jakar\n",
      "Processing record 17 of set 2 | raudeberg\n",
      "Processing record 18 of set 2 | jieshi\n",
      "Processing record 19 of set 2 | mataura\n",
      "Processing record 20 of set 2 | campina verde\n",
      "Processing record 21 of set 2 | nanortalik\n",
      "Processing record 22 of set 2 | cherskiy\n",
      "Processing record 23 of set 2 | omutinskoye\n",
      "{'cod': '404', 'message': 'city not found'}\n",
      "Processing record 24 of set 2 | punta arenas\n",
      "Processing record 25 of set 2 | illoqqortoormiut\n",
      "{'cod': '404', 'message': 'city not found'}\n",
      "Processing record 26 of set 2 | atuona\n",
      "Processing record 27 of set 2 | saint george\n",
      "Processing record 28 of set 2 | trojanovice\n",
      "Processing record 29 of set 2 | jamestown\n",
      "Processing record 30 of set 2 | salalah\n",
      "Processing record 31 of set 2 | asau\n",
      "Processing record 32 of set 2 | ilulissat\n",
      "Processing record 33 of set 2 | umzimvubu\n",
      "{'cod': '404', 'message': 'city not found'}\n",
      "Processing record 34 of set 2 | marcona\n",
      "{'cod': '404', 'message': 'city not found'}\n",
      "Processing record 35 of set 2 | san patricio\n",
      "Processing record 36 of set 2 | sobolevo\n",
      "Processing record 37 of set 2 | yola\n",
      "Processing record 38 of set 2 | westport\n",
      "Processing record 39 of set 2 | margate\n",
      "Processing record 40 of set 2 | northam\n",
      "Processing record 41 of set 2 | poronaysk\n",
      "Processing record 42 of set 2 | laguna\n",
      "Processing record 43 of set 2 | chiredzi\n",
      "Processing record 44 of set 2 | galesong\n",
      "Processing record 45 of set 2 | fort saint john\n",
      "{'cod': '404', 'message': 'city not found'}\n",
      "Processing record 46 of set 2 | lillooet\n",
      "Processing record 47 of set 2 | san agustin\n",
      "Processing record 48 of set 2 | rocha\n",
      "Processing record 49 of set 2 | karratha\n",
      "Processing record 50 of set 2 | balasheyka\n",
      "Processing record 0 of set 3 | saint-philippe\n",
      "Processing record 1 of set 3 | shieli\n",
      "Processing record 2 of set 3 | tuktoyaktuk\n",
      "Processing record 3 of set 3 | faanui\n",
      "Processing record 4 of set 3 | hermanus\n",
      "Processing record 5 of set 3 | nadvoitsy\n",
      "Processing record 6 of set 3 | albany\n",
      "Processing record 7 of set 3 | visnes\n",
      "Processing record 8 of set 3 | tsihombe\n",
      "{'cod': '404', 'message': 'city not found'}\n",
      "Processing record 9 of set 3 | puerto rondon\n",
      "Processing record 10 of set 3 | bonavista\n",
      "Processing record 11 of set 3 | sept-iles\n",
      "Processing record 12 of set 3 | ahuimanu\n",
      "Processing record 13 of set 3 | bucuresci\n",
      "Processing record 14 of set 3 | menongue\n",
      "Processing record 15 of set 3 | lompoc\n",
      "Processing record 16 of set 3 | galich\n",
      "Processing record 17 of set 3 | tuatapere\n",
      "Processing record 18 of set 3 | isla mujeres\n",
      "Processing record 19 of set 3 | oranjemund\n",
      "Processing record 20 of set 3 | severo-kurilsk\n",
      "Processing record 21 of set 3 | salacgriva\n",
      "Processing record 22 of set 3 | lebu\n",
      "Processing record 23 of set 3 | mount gambier\n",
      "Processing record 24 of set 3 | dikson\n",
      "Processing record 25 of set 3 | novorzhev\n",
      "Processing record 26 of set 3 | butaritari\n",
      "Processing record 27 of set 3 | new norfolk\n",
      "Processing record 28 of set 3 | lata\n",
      "Processing record 29 of set 3 | amderma\n",
      "{'cod': '404', 'message': 'city not found'}\n",
      "Processing record 30 of set 3 | lagoa\n",
      "Processing record 31 of set 3 | mandera\n",
      "Processing record 32 of set 3 | pisco\n",
      "Processing record 33 of set 3 | rabo de peixe\n",
      "Processing record 34 of set 3 | chokurdakh\n",
      "Processing record 35 of set 3 | walvis bay\n",
      "Processing record 36 of set 3 | gorom-gorom\n",
      "Processing record 37 of set 3 | bukachacha\n",
      "Processing record 38 of set 3 | minna\n",
      "Processing record 39 of set 3 | santa cruz del sur\n",
      "Processing record 40 of set 3 | russkaya polyana\n",
      "Processing record 41 of set 3 | dzhusaly\n",
      "{'cod': '404', 'message': 'city not found'}\n",
      "Processing record 42 of set 3 | chamba\n",
      "Processing record 43 of set 3 | lyngseidet\n",
      "Processing record 44 of set 3 | vila velha\n",
      "Processing record 45 of set 3 | kaspiysk\n",
      "Processing record 46 of set 3 | carutapera\n",
      "Processing record 47 of set 3 | haines junction\n",
      "Processing record 48 of set 3 | urumqi\n",
      "Processing record 49 of set 3 | mys shmidta\n",
      "{'cod': '404', 'message': 'city not found'}\n",
      "Processing record 50 of set 3 | sao jose da coroa grande\n",
      "Processing record 0 of set 4 | tidore\n",
      "{'cod': '404', 'message': 'city not found'}\n",
      "Processing record 1 of set 4 | leningradskiy\n",
      "Processing record 2 of set 4 | cabra\n",
      "Processing record 3 of set 4 | fairbanks\n",
      "Processing record 4 of set 4 | muros\n",
      "Processing record 5 of set 4 | weyburn\n",
      "Processing record 6 of set 4 | swellendam\n",
      "Processing record 7 of set 4 | chaplygin\n",
      "Processing record 8 of set 4 | namatanai\n",
      "Processing record 9 of set 4 | ponta do sol\n",
      "Processing record 10 of set 4 | san andres\n",
      "Processing record 11 of set 4 | doha\n",
      "Processing record 12 of set 4 | inta\n",
      "Processing record 13 of set 4 | east london\n",
      "Processing record 14 of set 4 | eskasem\n",
      "{'cod': '404', 'message': 'city not found'}\n",
      "Processing record 15 of set 4 | mossendjo\n",
      "Processing record 16 of set 4 | port hardy\n",
      "Processing record 17 of set 4 | san juan\n",
      "Processing record 18 of set 4 | selma\n",
      "Processing record 19 of set 4 | avera\n",
      "Processing record 20 of set 4 | manaure\n",
      "Processing record 21 of set 4 | ribeira grande\n",
      "Processing record 22 of set 4 | san cristobal\n",
      "Processing record 23 of set 4 | zhangjiakou\n",
      "Processing record 24 of set 4 | batavia\n",
      "Processing record 25 of set 4 | senno\n",
      "Processing record 26 of set 4 | maisyan\n",
      "{'cod': '404', 'message': 'city not found'}\n",
      "Processing record 27 of set 4 | touros\n"
     ]
    },
    {
     "name": "stdout",
     "output_type": "stream",
     "text": [
      "Processing record 28 of set 4 | pudozh\n",
      "Processing record 29 of set 4 | kaeo\n",
      "Processing record 30 of set 4 | kosonsoy\n",
      "Processing record 31 of set 4 | torbay\n",
      "Processing record 32 of set 4 | rungata\n",
      "{'cod': '404', 'message': 'city not found'}\n",
      "Processing record 33 of set 4 | gamba\n",
      "Processing record 34 of set 4 | bathsheba\n",
      "Processing record 35 of set 4 | tomatlan\n",
      "Processing record 36 of set 4 | pacific grove\n",
      "Processing record 37 of set 4 | dubovskoye\n",
      "Processing record 38 of set 4 | ducheng\n",
      "Processing record 39 of set 4 | narsaq\n",
      "Processing record 40 of set 4 | hauterive\n",
      "Processing record 41 of set 4 | shu\n",
      "Processing record 42 of set 4 | saldanha\n",
      "Processing record 43 of set 4 | xuanzhou\n",
      "Processing record 44 of set 4 | wodonga\n",
      "Processing record 45 of set 4 | shelopugino\n",
      "Processing record 46 of set 4 | mata\n",
      "Processing record 47 of set 4 | praia da vitoria\n",
      "Processing record 48 of set 4 | batagay-alyta\n",
      "Processing record 49 of set 4 | tura\n",
      "Processing record 50 of set 4 | kovdor\n",
      "Processing record 0 of set 5 | binabalian\n",
      "Processing record 1 of set 5 | labuan\n",
      "Processing record 2 of set 5 | esperance\n",
      "Processing record 3 of set 5 | nivala\n",
      "Processing record 4 of set 5 | lorengau\n",
      "Processing record 5 of set 5 | road town\n",
      "Processing record 6 of set 5 | actopan\n",
      "Processing record 7 of set 5 | clyde river\n",
      "Processing record 8 of set 5 | kavaratti\n",
      "Processing record 9 of set 5 | saskylakh\n",
      "Processing record 10 of set 5 | katsuura\n",
      "Processing record 11 of set 5 | upernavik\n",
      "Processing record 12 of set 5 | harda\n",
      "Processing record 13 of set 5 | at-bashi\n",
      "Processing record 14 of set 5 | juneau\n",
      "Processing record 15 of set 5 | barbar\n",
      "{'cod': '404', 'message': 'city not found'}\n",
      "Processing record 16 of set 5 | chifeng\n",
      "Processing record 17 of set 5 | chuy\n",
      "Processing record 18 of set 5 | puerto ayora\n",
      "Processing record 19 of set 5 | toungoo\n",
      "{'cod': '404', 'message': 'city not found'}\n",
      "Processing record 20 of set 5 | coihaique\n",
      "Processing record 21 of set 5 | saint-francois\n",
      "Processing record 22 of set 5 | ankang\n",
      "Processing record 23 of set 5 | lincoln\n",
      "Processing record 24 of set 5 | basco\n",
      "Processing record 25 of set 5 | victoria\n",
      "Processing record 26 of set 5 | vestmannaeyjar\n",
      "Processing record 27 of set 5 | harper\n",
      "Processing record 28 of set 5 | bethel\n",
      "Processing record 29 of set 5 | ancud\n",
      "Processing record 30 of set 5 | bethanien\n",
      "Processing record 31 of set 5 | helong\n",
      "Processing record 32 of set 5 | hilo\n",
      "Processing record 33 of set 5 | sechura\n",
      "Processing record 34 of set 5 | cabo san lucas\n",
      "Processing record 35 of set 5 | porto velho\n",
      "Processing record 36 of set 5 | grand river south east\n",
      "{'cod': '404', 'message': 'city not found'}\n",
      "Processing record 37 of set 5 | chernyshevskiy\n",
      "Processing record 38 of set 5 | vila franca do campo\n",
      "Processing record 39 of set 5 | vardo\n",
      "Processing record 40 of set 5 | codrington\n",
      "Processing record 41 of set 5 | ngukurr\n",
      "{'cod': '404', 'message': 'city not found'}\n",
      "Processing record 42 of set 5 | crowley\n",
      "Processing record 43 of set 5 | vestmanna\n",
      "Processing record 44 of set 5 | klaksvik\n",
      "Processing record 45 of set 5 | pacifica\n",
      "Processing record 46 of set 5 | tiznit\n",
      "Processing record 47 of set 5 | port alfred\n",
      "Processing record 48 of set 5 | emerald\n",
      "Processing record 49 of set 5 | garissa\n",
      "Processing record 50 of set 5 | kostomuksha\n",
      "Processing record 0 of set 6 | palabuhanratu\n",
      "{'cod': '404', 'message': 'city not found'}\n",
      "Processing record 1 of set 6 | olafsvik\n",
      "Processing record 2 of set 6 | caucaia\n",
      "Processing record 3 of set 6 | mahebourg\n",
      "Processing record 4 of set 6 | mehamn\n",
      "Processing record 5 of set 6 | xam nua\n",
      "Processing record 6 of set 6 | thunder bay\n",
      "Processing record 7 of set 6 | sitka\n",
      "Processing record 8 of set 6 | bairiki\n",
      "Processing record 9 of set 6 | karmala\n",
      "Processing record 10 of set 6 | general pico\n",
      "Processing record 11 of set 6 | guelengdeng\n",
      "{'cod': '404', 'message': 'city not found'}\n",
      "Processing record 12 of set 6 | zhob\n",
      "Processing record 13 of set 6 | kalawit\n",
      "Processing record 14 of set 6 | churapcha\n",
      "Processing record 15 of set 6 | hohhot\n",
      "Processing record 16 of set 6 | harrisburg\n",
      "Processing record 17 of set 6 | sayville\n",
      "Processing record 18 of set 6 | wahran\n",
      "{'cod': '404', 'message': 'city not found'}\n",
      "Processing record 19 of set 6 | umm lajj\n",
      "Processing record 20 of set 6 | mega\n",
      "Processing record 21 of set 6 | turan\n",
      "Processing record 22 of set 6 | hami\n",
      "Processing record 23 of set 6 | maine-soroa\n",
      "Processing record 24 of set 6 | bolobo\n",
      "Processing record 25 of set 6 | cockburn town\n"
     ]
    }
   ],
   "source": [
    "record_counter = 1\n",
    "set_counter = 1\n",
    "# Starting URL for Weather Map API Call\n",
    "url = \"http://api.openweathermap.org/data/2.5/weather?units=Imperial&APPID=\" + weather_api_key \n",
    "print('------------------------')\n",
    "print('Beginning Data Retrieval')\n",
    "print('------------------------')\n",
    "\n",
    "for city in cities:\n",
    "    query_url = url + \"&q=\" + city\n",
    "    # Get weather data\n",
    "    response = requests.get(query_url).json()\n",
    "    if record_counter < 50:\n",
    "        record_counter += 1\n",
    "    else:\n",
    "        set_counter += 1\n",
    "        record_counter = 0\n",
    "        time.sleep(10)\n",
    "\n",
    "    print('Processing record {} of set {} | {}'.format(record_counter, set_counter, city))\n",
    "    #print(url)\n",
    "    try:\n",
    "        \n",
    "        cloudiness.append(response['clouds']['all'])\n",
    "        country.append(response['sys']['country'])\n",
    "        date.append(response['dt'])\n",
    "        humidity.append(response['main']['humidity'])\n",
    "        temp.append(response['main']['temp_max'])\n",
    "        lat.append(response['coord']['lat'])\n",
    "        lng.append(response['coord']['lon'])\n",
    "        wind.append(response['wind']['speed'])\n",
    "        new_cities.append(city)\n",
    "        \n",
    "    except:\n",
    "        \n",
    "        print(response)"
   ]
  },
  {
   "cell_type": "markdown",
   "metadata": {},
   "source": [
    "### Convert Raw Data to DataFrame\n",
    "* Export the city data into a .csv.\n",
    "* Display the DataFrame"
   ]
  },
  {
   "cell_type": "code",
   "execution_count": 13,
   "metadata": {},
   "outputs": [
    {
     "data": {
      "text/plain": [
       "City          253\n",
       "Cloudiness    253\n",
       "Country       253\n",
       "Date          253\n",
       "Humidity      253\n",
       "Temp          253\n",
       "Lat           253\n",
       "Lng           253\n",
       "Wind Speed    253\n",
       "dtype: int64"
      ]
     },
     "execution_count": 13,
     "metadata": {},
     "output_type": "execute_result"
    }
   ],
   "source": [
    "# create a data frame from cities, temp, humidity, cloudiness and wind speed\n",
    "\n",
    "weather_data = pd.DataFrame({\n",
    "    \n",
    "    \"City\": new_cities,\n",
    "    \"Cloudiness\" : cloudiness,\n",
    "    \"Country\" : country,\n",
    "    \"Date\" : date,\n",
    "    \"Humidity\" : humidity,\n",
    "    \"Temp\": temp,\n",
    "    \"Lat\" : lat,\n",
    "    \"Lng\" : lng,   \n",
    "    \"Wind Speed\" : wind\n",
    "})\n",
    "\n",
    "weather_data.count()"
   ]
  },
  {
   "cell_type": "code",
   "execution_count": 14,
   "metadata": {},
   "outputs": [
    {
     "data": {
      "text/html": [
       "<div>\n",
       "<style scoped>\n",
       "    .dataframe tbody tr th:only-of-type {\n",
       "        vertical-align: middle;\n",
       "    }\n",
       "\n",
       "    .dataframe tbody tr th {\n",
       "        vertical-align: top;\n",
       "    }\n",
       "\n",
       "    .dataframe thead th {\n",
       "        text-align: right;\n",
       "    }\n",
       "</style>\n",
       "<table border=\"1\" class=\"dataframe\">\n",
       "  <thead>\n",
       "    <tr style=\"text-align: right;\">\n",
       "      <th></th>\n",
       "      <th>City</th>\n",
       "      <th>Cloudiness</th>\n",
       "      <th>Country</th>\n",
       "      <th>Date</th>\n",
       "      <th>Humidity</th>\n",
       "      <th>Temp</th>\n",
       "      <th>Lat</th>\n",
       "      <th>Lng</th>\n",
       "      <th>Wind Speed</th>\n",
       "    </tr>\n",
       "  </thead>\n",
       "  <tbody>\n",
       "    <tr>\n",
       "      <td>0</td>\n",
       "      <td>ornskoldsvik</td>\n",
       "      <td>100</td>\n",
       "      <td>SE</td>\n",
       "      <td>1586638201</td>\n",
       "      <td>93</td>\n",
       "      <td>35.60</td>\n",
       "      <td>63.29</td>\n",
       "      <td>18.72</td>\n",
       "      <td>6.93</td>\n",
       "    </tr>\n",
       "    <tr>\n",
       "      <td>1</td>\n",
       "      <td>mukhen</td>\n",
       "      <td>0</td>\n",
       "      <td>RU</td>\n",
       "      <td>1586638201</td>\n",
       "      <td>75</td>\n",
       "      <td>32.27</td>\n",
       "      <td>48.10</td>\n",
       "      <td>136.10</td>\n",
       "      <td>4.92</td>\n",
       "    </tr>\n",
       "    <tr>\n",
       "      <td>2</td>\n",
       "      <td>hithadhoo</td>\n",
       "      <td>0</td>\n",
       "      <td>MV</td>\n",
       "      <td>1586638081</td>\n",
       "      <td>65</td>\n",
       "      <td>84.56</td>\n",
       "      <td>-0.60</td>\n",
       "      <td>73.08</td>\n",
       "      <td>6.38</td>\n",
       "    </tr>\n",
       "    <tr>\n",
       "      <td>3</td>\n",
       "      <td>kikwit</td>\n",
       "      <td>76</td>\n",
       "      <td>CD</td>\n",
       "      <td>1586638201</td>\n",
       "      <td>78</td>\n",
       "      <td>73.67</td>\n",
       "      <td>-5.04</td>\n",
       "      <td>18.82</td>\n",
       "      <td>1.12</td>\n",
       "    </tr>\n",
       "    <tr>\n",
       "      <td>4</td>\n",
       "      <td>vao</td>\n",
       "      <td>27</td>\n",
       "      <td>NC</td>\n",
       "      <td>1586638127</td>\n",
       "      <td>74</td>\n",
       "      <td>76.19</td>\n",
       "      <td>-22.67</td>\n",
       "      <td>167.48</td>\n",
       "      <td>15.46</td>\n",
       "    </tr>\n",
       "  </tbody>\n",
       "</table>\n",
       "</div>"
      ],
      "text/plain": [
       "           City  Cloudiness Country        Date  Humidity   Temp    Lat  \\\n",
       "0  ornskoldsvik         100      SE  1586638201        93  35.60  63.29   \n",
       "1        mukhen           0      RU  1586638201        75  32.27  48.10   \n",
       "2     hithadhoo           0      MV  1586638081        65  84.56  -0.60   \n",
       "3        kikwit          76      CD  1586638201        78  73.67  -5.04   \n",
       "4           vao          27      NC  1586638127        74  76.19 -22.67   \n",
       "\n",
       "      Lng  Wind Speed  \n",
       "0   18.72        6.93  \n",
       "1  136.10        4.92  \n",
       "2   73.08        6.38  \n",
       "3   18.82        1.12  \n",
       "4  167.48       15.46  "
      ]
     },
     "execution_count": 14,
     "metadata": {},
     "output_type": "execute_result"
    }
   ],
   "source": [
    "weather_data.head()"
   ]
  },
  {
   "cell_type": "markdown",
   "metadata": {},
   "source": [
    "### Plotting the Data\n",
    "* Use proper labeling of the plots using plot titles (including date of analysis) and axes labels.\n",
    "* Save the plotted figures as .pngs."
   ]
  },
  {
   "cell_type": "code",
   "execution_count": 21,
   "metadata": {},
   "outputs": [],
   "source": [
    "cities_list = zip(new_cities,cloudiness,country,date,humidity,temp,lat,lng)\n",
    "# Set variable for output file\n",
    "output_file = os.path.join('..', 'output_data', 'cities.csv')\n",
    "#  Open the output file\n",
    "with open(output_file, 'w') as datafile:\n",
    "    weather_data.to_csv(output_file)"
   ]
  },
  {
   "cell_type": "code",
   "execution_count": 22,
   "metadata": {},
   "outputs": [],
   "source": [
    "date =datetime.datetime.fromtimestamp(\n",
    "        int(weather_data['Date'][0])\n",
    "    ).strftime('%m/%d/%Y')"
   ]
  },
  {
   "cell_type": "markdown",
   "metadata": {},
   "source": [
    "#### Latitude vs. Temperature Plot"
   ]
  },
  {
   "cell_type": "code",
   "execution_count": 23,
   "metadata": {
    "scrolled": true
   },
   "outputs": [
    {
     "data": {
      "image/png": "[encoded data removed]",
      "text/plain": [
       "<Figure size 432x288 with 1 Axes>"
      ]
     },
     "metadata": {
      "needs_background": "light"
     },
     "output_type": "display_data"
    }
   ],
   "source": [
    "# Latitude Vs Temperature Plot\n",
    "\n",
    "weather_data.plot(kind='scatter', x='Lat', y='Temp', c='DarkBlue')\n",
    "plt.title('City Latitude Vs Max Temperature ({})'.format(date) )\n",
    "plt.xlabel('Latitude')\n",
    "plt.ylabel('Max temperature (F)')\n",
    "plt.grid()\n",
    "plt.savefig(\"../Images/LatitudeVsTemperature.png\")"
   ]
  },
  {
   "cell_type": "markdown",
   "metadata": {},
   "source": [
    "#### Latitude vs. Humidity Plot"
   ]
  },
  {
   "cell_type": "code",
   "execution_count": 24,
   "metadata": {},
   "outputs": [
    {
     "data": {
      "image/png": "[encoded data removed]",
      "text/plain": [
       "<Figure size 432x288 with 1 Axes>"
      ]
     },
     "metadata": {
      "needs_background": "light"
     },
     "output_type": "display_data"
    }
   ],
   "source": [
    "# Latitude Vs Humidity\n",
    "\n",
    "weather_data.plot(kind='scatter',x='Lat',y='Humidity', c='DarkBlue')\n",
    "plt.title('City Latitude Vs Max Humidity ({})'.format(date) )\n",
    "plt.xlabel('Latitude')\n",
    "plt.ylabel('Humidity (%)')\n",
    "plt.grid()\n",
    "plt.savefig(\"../Images/LatitudeVsHumidity.png\")"
   ]
  },
  {
   "cell_type": "markdown",
   "metadata": {},
   "source": [
    "#### Latitude vs. Cloudiness Plot"
   ]
  },
  {
   "cell_type": "code",
   "execution_count": 25,
   "metadata": {},
   "outputs": [
    {
     "data": {
      "image/png": "[encoded data removed]",
      "text/plain": [
       "<Figure size 432x288 with 1 Axes>"
      ]
     },
     "metadata": {
      "needs_background": "light"
     },
     "output_type": "display_data"
    }
   ],
   "source": [
    "# Latitude Vs Cloudiness\n",
    "\n",
    "weather_data.plot(kind='scatter',x='Lat',y='Cloudiness', c='DarkBlue')\n",
    "plt.title('City Latitude Vs Cloudiness ({})'.format(date) )\n",
    "plt.xlabel('Latitude')\n",
    "plt.ylabel('Cloudiness (%)')\n",
    "plt.grid()\n",
    "plt.savefig(\"../Images/LatitudeVsCloudiness.png\")"
   ]
  },
  {
   "cell_type": "markdown",
   "metadata": {},
   "source": [
    "#### Latitude vs. Wind Speed Plot"
   ]
  },
  {
   "cell_type": "code",
   "execution_count": 26,
   "metadata": {},
   "outputs": [
    {
     "data": {
      "image/png": "[encoded data removed]",
      "text/plain": [
       "<Figure size 432x288 with 1 Axes>"
      ]
     },
     "metadata": {
      "needs_background": "light"
     },
     "output_type": "display_data"
    }
   ],
   "source": [
    "# Latitude Vs Wind Speed\n",
    "\n",
    "weather_data.plot(kind='scatter',x='Lat',y='Wind Speed', c='DarkBlue')\n",
    "plt.title('City Latitude Vs Wind Speed ({})'.format(date) )\n",
    "plt.xlabel('Latitude')\n",
    "plt.ylabel('Wind Speed (mph)')\n",
    "plt.grid()\n",
    "plt.savefig(\"../Images/LatitudeVsWindSpeed.png\")"
   ]
  },
  {
   "cell_type": "markdown",
   "metadata": {},
   "source": [
    "## Linear Regression"
   ]
  },
  {
   "cell_type": "code",
   "execution_count": 10,
   "metadata": {},
   "outputs": [],
   "source": [
    "# OPTIONAL: Create a function to create Linear Regression plots\n"
   ]
  },
  {
   "cell_type": "code",
   "execution_count": 11,
   "metadata": {},
   "outputs": [],
   "source": [
    "# Create Northern and Southern Hemisphere DataFrames\n"
   ]
  },
  {
   "cell_type": "markdown",
   "metadata": {},
   "source": [
    "####  Northern Hemisphere - Max Temp vs. Latitude Linear Regression"
   ]
  },
  {
   "cell_type": "code",
   "execution_count": null,
   "metadata": {},
   "outputs": [],
   "source": []
  },
  {
   "cell_type": "markdown",
   "metadata": {},
   "source": [
    "####  Southern Hemisphere - Max Temp vs. Latitude Linear Regression"
   ]
  },
  {
   "cell_type": "code",
   "execution_count": null,
   "metadata": {},
   "outputs": [],
   "source": []
  },
  {
   "cell_type": "markdown",
   "metadata": {},
   "source": [
    "####  Northern Hemisphere - Humidity (%) vs. Latitude Linear Regression"
   ]
  },
  {
   "cell_type": "code",
   "execution_count": null,
   "metadata": {},
   "outputs": [],
   "source": []
  },
  {
   "cell_type": "markdown",
   "metadata": {},
   "source": [
    "####  Southern Hemisphere - Humidity (%) vs. Latitude Linear Regression"
   ]
  },
  {
   "cell_type": "code",
   "execution_count": null,
   "metadata": {},
   "outputs": [],
   "source": []
  },
  {
   "cell_type": "markdown",
   "metadata": {},
   "source": [
    "####  Northern Hemisphere - Cloudiness (%) vs. Latitude Linear Regression"
   ]
  },
  {
   "cell_type": "code",
   "execution_count": null,
   "metadata": {},
   "outputs": [],
   "source": []
  },
  {
   "cell_type": "markdown",
   "metadata": {},
   "source": [
    "####  Southern Hemisphere - Cloudiness (%) vs. Latitude Linear Regression"
   ]
  },
  {
   "cell_type": "code",
   "execution_count": null,
   "metadata": {},
   "outputs": [],
   "source": []
  },
  {
   "cell_type": "markdown",
   "metadata": {},
   "source": [
    "####  Northern Hemisphere - Wind Speed (mph) vs. Latitude Linear Regression"
   ]
  },
  {
   "cell_type": "code",
   "execution_count": null,
   "metadata": {},
   "outputs": [],
   "source": []
  },
  {
   "cell_type": "markdown",
   "metadata": {},
   "source": [
    "####  Southern Hemisphere - Wind Speed (mph) vs. Latitude Linear Regression"
   ]
  },
  {
   "cell_type": "code",
   "execution_count": null,
   "metadata": {},
   "outputs": [],
   "source": []
  },
  {
   "cell_type": "code",
   "execution_count": null,
   "metadata": {},
   "outputs": [],
   "source": []
  }
 ],
 "metadata": {
  "anaconda-cloud": {},
  "kernel_info": {
   "name": "python3"
  },
  "kernelspec": {
   "display_name": "Python 3",
   "language": "python",
   "name": "python3"
  },
  "language_info": {
   "codemirror_mode": {
    "name": "ipython",
    "version": 3
   },
   "file_extension": ".py",
   "mimetype": "text/x-python",
   "name": "python",
   "nbconvert_exporter": "python",
   "pygments_lexer": "ipython3",
   "version": "3.7.4"
  },
  "latex_envs": {
   "LaTeX_envs_menu_present": true,
   "autoclose": false,
   "autocomplete": true,
   "bibliofile": "biblio.bib",
   "cite_by": "apalike",
   "current_citInitial": 1,
   "eqLabelWithNumbers": true,
   "eqNumInitial": 1,
   "hotkeys": {
    "equation": "Ctrl-E",
    "itemize": "Ctrl-I"
   },
   "labels_anchors": false,
   "latex_user_defs": false,
   "report_style_numbering": false,
   "user_envs_cfg": false
  },
  "nteract": {
   "version": "0.12.3"
  }
 },
 "nbformat": 4,
 "nbformat_minor": 2
}
